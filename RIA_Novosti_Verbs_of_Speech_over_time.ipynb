{
  "nbformat": 4,
  "nbformat_minor": 0,
  "metadata": {
    "colab": {
      "name": "RIA_Novosti-Verbs-of-Speech_over time.ipynb",
      "provenance": [],
      "authorship_tag": "ABX9TyPtkW7bA8aq6apNf0sej89i",
      "include_colab_link": true
    },
    "kernelspec": {
      "name": "python3",
      "display_name": "Python 3"
    },
    "language_info": {
      "name": "python"
    }
  },
  "cells": [
    {
      "cell_type": "markdown",
      "metadata": {
        "id": "view-in-github",
        "colab_type": "text"
      },
      "source": [
        "<a href=\"https://colab.research.google.com/github/ekolonsky/RIA_news/blob/main/RIA_Novosti_Verbs_of_Speech_over_time.ipynb\" target=\"_parent\"><img src=\"https://colab.research.google.com/assets/colab-badge.svg\" alt=\"Open In Colab\"/></a>"
      ]
    },
    {
      "cell_type": "markdown",
      "source": [
        "# Verbs of speech frequency over time"
      ],
      "metadata": {
        "id": "uK0aW2TxtaNz"
      }
    },
    {
      "cell_type": "code",
      "source": [
        "import requests, re\n",
        "from collections import Counter"
      ],
      "metadata": {
        "id": "g4QRVu20vlpD"
      },
      "execution_count": 4,
      "outputs": []
    },
    {
      "cell_type": "code",
      "execution_count": 1,
      "metadata": {
        "id": "24oXVYwlpy3q",
        "colab": {
          "base_uri": "https://localhost:8080/"
        },
        "outputId": "31f93d5b-5460-40e5-deff-f17e70edc070"
      },
      "outputs": [
        {
          "output_type": "stream",
          "name": "stdout",
          "text": [
            "415973 москва\n"
          ]
        }
      ],
      "source": [
        "# normal: word -> normal form of word\n",
        "import cloudpickle as cp\n",
        "from urllib.request import urlopen\n",
        "\n",
        "url = 'https://github.com/ekolonsky/RIA_news/raw/main/'\n",
        "\n",
        "normal = cp.load(urlopen(url + \"normal.pkl\")) \n",
        "\n",
        "print(len(normal), normal['москве'])"
      ]
    },
    {
      "cell_type": "code",
      "source": [
        "  # Функция для разбиений на токены\n",
        "\n",
        "separators = ';', ',', '\"', ':', '.','!', '?', ' ', '`', '%','$','*','(',')','—'\n",
        "regex_punctuation = '|'.join(map(re.escape, separators))\n",
        "url = 'https://github.com/ekolonsky/RIA_news/raw/main/'\n",
        "\n",
        "\n",
        "def get_stopwords():\n",
        "    req = requests.get(url + 'stopwords.txt')\n",
        "    ans = req.text.split()\n",
        "    return ans\n",
        "stopwords = get_stopwords() # затем сделаем загрузку из словаря стоп-слов\n",
        "\n",
        "def get_speechverbs():\n",
        "    req = requests.get(url + 'speech_verbs.txt')\n",
        "    ans = req.text.split()\n",
        "    return ans\n",
        "speechverbs = get_speechverbs() \n",
        "\n",
        "def normalize(word):\n",
        "    word = word.lower()\n",
        "    if word not in normal:\n",
        "      normal[word] = morph.parse(word)[0].normal_form\n",
        "    return normal[word]\n",
        "\n",
        "def tokenize(text):\n",
        "    text = text.lower()\n",
        "    tokens = [normalize(word) for word in re.split(regex_punctuation,text)  \n",
        "      if not word.isnumeric()\n",
        "      and word != ''] \n",
        "    return [w for w in tokens if w not in stopwords] \n",
        "\n",
        "\n",
        "# пример\n",
        "tokenize('В Москве назвали победителей Гран-при 15 Московского кинофестиваля \"Минотавр\".')"
      ],
      "metadata": {
        "id": "32t8Vxyeq1zH",
        "colab": {
          "base_uri": "https://localhost:8080/"
        },
        "outputId": "f1740653-aad1-4536-d9da-081d35373dfd"
      },
      "execution_count": 5,
      "outputs": [
        {
          "output_type": "execute_result",
          "data": {
            "text/plain": [
              "['москва',\n",
              " 'назвать',\n",
              " 'победитель',\n",
              " 'гран-при',\n",
              " 'московский',\n",
              " 'кинофестиваль',\n",
              " 'минотавр']"
            ]
          },
          "metadata": {},
          "execution_count": 5
        }
      ]
    },
    {
      "cell_type": "code",
      "source": [
        "# функция для извлечения даты новости из строки со ссылкой на новость\n",
        "def get_date(link):\n",
        "  pattern = r'\\/20[0-2][0-9][0-1][0-9][0-3][0-9]\\/'\n",
        "  result = re.search(pattern, link)\n",
        "\n",
        "  if result:\n",
        "    return result[0][1:-1]\n",
        "  else:\n",
        "    return ''\n",
        "  return \n",
        "\n",
        "# пример\n",
        "get_date('https://ria.ru/20041229/774359.html\tЖерар Депардье открыл в Париже второй ресторан')"
      ],
      "metadata": {
        "colab": {
          "base_uri": "https://localhost:8080/",
          "height": 36
        },
        "id": "DOGZNLZKvtBD",
        "outputId": "bb29dbc3-09e2-463e-bc7b-0a1658db435d"
      },
      "execution_count": 7,
      "outputs": [
        {
          "output_type": "execute_result",
          "data": {
            "text/plain": [
              "'20041229'"
            ],
            "application/vnd.google.colaboratory.intrinsic+json": {
              "type": "string"
            }
          },
          "metadata": {},
          "execution_count": 7
        }
      ]
    },
    {
      "cell_type": "markdown",
      "source": [
        "## Read and count news frequency with speechverbs"
      ],
      "metadata": {
        "id": "tIZvhcPMwC3T"
      }
    },
    {
      "cell_type": "code",
      "source": [
        "%%time\n",
        "#url = 'https://raw.githubusercontent.com/ekolonsky/RIA_news/main/'\n",
        "url = 'https://github.com/ekolonsky/RIA_news/raw/main/'\n",
        "filenames = ['ria-{:02d}-1.txt'.format(i) for i in range(2,23)] \n",
        "filenames += ['ria-{:02d}-2.txt'.format(i) for i in range(2,22)]\n",
        "#filenames = ['ria-{:02d}-1.txt'.format(i) for i in range(13,15)]  # quick test\n",
        "\n",
        "total, selected = Counter(), Counter()\n",
        "\n",
        "\n",
        "\n",
        "for filename in filenames:\n",
        "  print(filename)\n",
        "  req = requests.get(url + filename)\n",
        "  for line in req.text.splitlines():\n",
        "    sep = line.find('\\t')\n",
        "    if sep == -1:\n",
        "      continue\n",
        "    link, news = line[:sep],line[sep+1:]\n",
        "    tokens = tokenize(news)\n",
        "  \n",
        "    date = get_date(link)\n",
        "    year = date[:4]\n",
        "\n",
        "    total[year] += 1\n",
        "\n",
        "    if any(word in speechverbs for word in tokens):\n",
        "      selected[year] += 1\n",
        "\n"
      ],
      "metadata": {
        "colab": {
          "base_uri": "https://localhost:8080/"
        },
        "id": "U_lNizOCv0ai",
        "outputId": "75c1e4d4-7aad-4986-f78c-ac4d98ebea74"
      },
      "execution_count": 19,
      "outputs": [
        {
          "output_type": "stream",
          "name": "stdout",
          "text": [
            "ria-02-1.txt\n",
            "ria-03-1.txt\n",
            "ria-04-1.txt\n",
            "ria-05-1.txt\n",
            "ria-06-1.txt\n",
            "ria-07-1.txt\n",
            "ria-08-1.txt\n",
            "ria-09-1.txt\n",
            "ria-10-1.txt\n",
            "ria-11-1.txt\n",
            "ria-12-1.txt\n",
            "ria-13-1.txt\n",
            "ria-14-1.txt\n",
            "ria-15-1.txt\n",
            "ria-16-1.txt\n",
            "ria-17-1.txt\n",
            "ria-18-1.txt\n",
            "ria-19-1.txt\n",
            "ria-20-1.txt\n",
            "ria-21-1.txt\n",
            "ria-22-1.txt\n",
            "ria-02-2.txt\n",
            "ria-03-2.txt\n",
            "ria-04-2.txt\n",
            "ria-05-2.txt\n",
            "ria-06-2.txt\n",
            "ria-07-2.txt\n",
            "ria-08-2.txt\n",
            "ria-09-2.txt\n",
            "ria-10-2.txt\n",
            "ria-11-2.txt\n",
            "ria-12-2.txt\n",
            "ria-13-2.txt\n",
            "ria-14-2.txt\n",
            "ria-15-2.txt\n",
            "ria-16-2.txt\n",
            "ria-17-2.txt\n",
            "ria-18-2.txt\n",
            "ria-19-2.txt\n",
            "ria-20-2.txt\n",
            "ria-21-2.txt\n",
            "CPU times: user 2min 12s, sys: 976 ms, total: 2min 13s\n",
            "Wall time: 3min 37s\n"
          ]
        }
      ]
    },
    {
      "cell_type": "code",
      "source": [
        "import matplotlib.pylab as plt\n",
        "\n",
        "freq = {}\n",
        "for year in total:\n",
        "  freq[year] = selected[year]/total[year]\n",
        "  print(year, total[year], selected[year], freq[year])\n",
        "\n",
        "lists = sorted(freq.items()) # sorted by key, return a list of tuples\n",
        "x, y = zip(*lists) # unpack a list of pairs into two tuples\n",
        "\n",
        "plt.plot(x, y)\n",
        "\n",
        "ax = plt.gca()\n",
        "plt.draw()\n",
        "\n",
        "ax.tick_params(axis='x', labelrotation = 90)\n",
        "plt.title(\"Verbs of speech frequency over time\")\n",
        "plt.show()"
      ],
      "metadata": {
        "colab": {
          "base_uri": "https://localhost:8080/",
          "height": 674
        },
        "id": "9PmgBxY2xx_I",
        "outputId": "998d8e78-4307-41fb-cf94-a9ba65102c69"
      },
      "execution_count": 24,
      "outputs": [
        {
          "output_type": "stream",
          "name": "stdout",
          "text": [
            "2002 131914 11816 0.08957351001410009\n",
            "2003 94182 6872 0.07296511010596504\n",
            "2004 136974 10728 0.07832143326470717\n",
            "2005 89136 6410 0.07191258301920661\n",
            "2006 68754 6563 0.0954562643628007\n",
            "2007 84873 7446 0.08773108055565375\n",
            "2008 109435 8210 0.07502170238040846\n",
            "2009 129409 9828 0.07594525883052956\n",
            "2010 156937 12689 0.08085410069008583\n",
            "2011 187429 16788 0.08956991714195775\n",
            "2012 175841 16175 0.09198651054077263\n",
            "2013 187527 17903 0.09546891914231018\n",
            "2014 156781 17415 0.11107851078893488\n",
            "2015 224856 22697 0.10094015725619952\n",
            "2016 202099 31101 0.15388992523466222\n",
            "2017 168791 41896 0.2482122862000936\n",
            "2018 166210 49495 0.297785933457674\n",
            "2019 177376 53840 0.30353599134042936\n",
            "2020 163126 49092 0.30094528156149236\n",
            "2021 139511 46604 0.334052511988302\n",
            "2022 58680 20565 0.3504601226993865\n"
          ]
        },
        {
          "output_type": "display_data",
          "data": {
            "text/plain": [
              "<Figure size 432x288 with 1 Axes>"
            ],
            "image/png": "[encoded data removed]"
          },
          "metadata": {
            "needs_background": "light"
          }
        }
      ]
    },
    {
      "cell_type": "code",
      "source": [
        ""
      ],
      "metadata": {
        "id": "FUwEW5zgzjbo"
      },
      "execution_count": null,
      "outputs": []
    }
  ]
}