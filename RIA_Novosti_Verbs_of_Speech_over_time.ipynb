{
  "nbformat": 4,
  "nbformat_minor": 0,
  "metadata": {
    "colab": {
      "name": "RIA_Novosti-Verbs-of-Speech_over time.ipynb",
      "provenance": [],
      "authorship_tag": "ABX9TyPjJZcQjvpCBLU91/SyJetx",
      "include_colab_link": true
    },
    "kernelspec": {
      "name": "python3",
      "display_name": "Python 3"
    },
    "language_info": {
      "name": "python"
    }
  },
  "cells": [
    {
      "cell_type": "markdown",
      "metadata": {
        "id": "view-in-github",
        "colab_type": "text"
      },
      "source": [
        "<a href=\"https://colab.research.google.com/github/ekolonsky/RIA_news/blob/main/RIA_Novosti_Verbs_of_Speech_over_time.ipynb\" target=\"_parent\"><img src=\"https://colab.research.google.com/assets/colab-badge.svg\" alt=\"Open In Colab\"/></a>"
      ]
    },
    {
      "cell_type": "markdown",
      "source": [
        "# Verbs of speech frequency over time"
      ],
      "metadata": {
        "id": "uK0aW2TxtaNz"
      }
    },
    {
      "cell_type": "code",
      "source": [
        "# install packages for NLP\n",
        "!pip install pymorphy2"
      ],
      "metadata": {
        "id": "WiDWp7FSLZZE",
        "outputId": "950e0f43-e7de-4a93-9f8c-688e9a680f3f",
        "colab": {
          "base_uri": "https://localhost:8080/"
        }
      },
      "execution_count": 6,
      "outputs": [
        {
          "output_type": "stream",
          "name": "stdout",
          "text": [
            "Looking in indexes: https://pypi.org/simple, https://us-python.pkg.dev/colab-wheels/public/simple/\n",
            "Collecting pymorphy2\n",
            "  Downloading pymorphy2-0.9.1-py3-none-any.whl (55 kB)\n",
            "\u001b[K     |████████████████████████████████| 55 kB 2.1 MB/s \n",
            "\u001b[?25hCollecting docopt>=0.6\n",
            "  Downloading docopt-0.6.2.tar.gz (25 kB)\n",
            "Collecting dawg-python>=0.7.1\n",
            "  Downloading DAWG_Python-0.7.2-py2.py3-none-any.whl (11 kB)\n",
            "Collecting pymorphy2-dicts-ru<3.0,>=2.4\n",
            "  Downloading pymorphy2_dicts_ru-2.4.417127.4579844-py2.py3-none-any.whl (8.2 MB)\n",
            "\u001b[K     |████████████████████████████████| 8.2 MB 8.6 MB/s \n",
            "\u001b[?25hBuilding wheels for collected packages: docopt\n",
            "  Building wheel for docopt (setup.py) ... \u001b[?25l\u001b[?25hdone\n",
            "  Created wheel for docopt: filename=docopt-0.6.2-py2.py3-none-any.whl size=13723 sha256=b92204e61c376d7bf07b8f3d13b7597cab2940cf5c8ed8e8c3756740c7786eb9\n",
            "  Stored in directory: /root/.cache/pip/wheels/56/ea/58/ead137b087d9e326852a851351d1debf4ada529b6ac0ec4e8c\n",
            "Successfully built docopt\n",
            "Installing collected packages: pymorphy2-dicts-ru, docopt, dawg-python, pymorphy2\n",
            "Successfully installed dawg-python-0.7.2 docopt-0.6.2 pymorphy2-0.9.1 pymorphy2-dicts-ru-2.4.417127.4579844\n"
          ]
        }
      ]
    },
    {
      "cell_type": "code",
      "source": [
        "import requests, re\n",
        "from collections import Counter\n",
        "import pymorphy2\n",
        "morph = pymorphy2.MorphAnalyzer(lang='ru')\n",
        "# пример - морфологический разбора слова \"идём\" \n",
        "print(morph.parse('идём'))\n",
        "normal = {}"
      ],
      "metadata": {
        "id": "g4QRVu20vlpD",
        "outputId": "11e3c1b6-ddb2-4103-8062-ef72936406bb",
        "colab": {
          "base_uri": "https://localhost:8080/"
        }
      },
      "execution_count": 7,
      "outputs": [
        {
          "output_type": "stream",
          "name": "stdout",
          "text": [
            "[Parse(word='идём', tag=OpencorporaTag('VERB,impf,intr plur,1per,pres,indc'), normal_form='идти', score=0.5, methods_stack=((DictionaryAnalyzer(), 'идём', 1696, 2),)), Parse(word='идём', tag=OpencorporaTag('VERB,impf,intr sing,impr,incl'), normal_form='идти', score=0.5, methods_stack=((DictionaryAnalyzer(), 'идём', 1696, 11),))]\n"
          ]
        }
      ]
    },
    {
      "cell_type": "code",
      "execution_count": 2,
      "metadata": {
        "id": "24oXVYwlpy3q",
        "colab": {
          "base_uri": "https://localhost:8080/"
        },
        "outputId": "5407876c-06f4-4282-a48c-9276dcc9265b"
      },
      "outputs": [
        {
          "output_type": "stream",
          "name": "stdout",
          "text": [
            "415973 москва\n"
          ]
        }
      ],
      "source": [
        "# normal: word -> normal form of word\n",
        "import cloudpickle as cp\n",
        "from urllib.request import urlopen\n",
        "\n",
        "url = 'https://github.com/ekolonsky/RIA_news/raw/main/'\n",
        "\n",
        "normal = cp.load(urlopen(url + \"normal.pkl\")) \n",
        "\n",
        "print(len(normal), normal['москве'])"
      ]
    },
    {
      "cell_type": "code",
      "source": [
        "  # Функция для разбиений на токены\n",
        "\n",
        "separators = ';', ',', '\"', ':', '.','!', '?', ' ', '`', '%','$','*','(',')','—'\n",
        "regex_punctuation = '|'.join(map(re.escape, separators))\n",
        "url = 'https://github.com/ekolonsky/RIA_news/raw/main/'\n",
        "\n",
        "\n",
        "def get_stopwords():\n",
        "    req = requests.get(url + 'stopwords.txt')\n",
        "    ans = req.text.split()\n",
        "    return ans\n",
        "stopwords = get_stopwords() # затем сделаем загрузку из словаря стоп-слов\n",
        "\n",
        "def get_speechverbs():\n",
        "    req = requests.get(url + 'speech_verbs.txt')\n",
        "    ans = req.text.split()\n",
        "    return ans\n",
        "speechverbs = get_speechverbs() \n",
        "\n",
        "def normalize(word):\n",
        "    word = word.lower()\n",
        "    if word not in normal:\n",
        "      normal[word] = morph.parse(word)[0].normal_form\n",
        "    return normal[word]\n",
        "\n",
        "def tokenize(text):\n",
        "    text = text.lower()\n",
        "    tokens = [normalize(word) for word in re.split(regex_punctuation,text)  \n",
        "      if not word.isnumeric()\n",
        "      and word != ''] \n",
        "    return [w for w in tokens if w not in stopwords] \n",
        "\n",
        "\n",
        "# пример\n",
        "tokenize('В Москве назвали победителей Гран-при 15 Московского кинофестиваля \"Минотавр\".')"
      ],
      "metadata": {
        "id": "32t8Vxyeq1zH",
        "colab": {
          "base_uri": "https://localhost:8080/"
        },
        "outputId": "3dca8844-64dc-457d-e107-d2154bf57b96"
      },
      "execution_count": 3,
      "outputs": [
        {
          "output_type": "execute_result",
          "data": {
            "text/plain": [
              "['москва',\n",
              " 'назвать',\n",
              " 'победитель',\n",
              " 'гран-при',\n",
              " 'московский',\n",
              " 'кинофестиваль',\n",
              " 'минотавр']"
            ]
          },
          "metadata": {},
          "execution_count": 3
        }
      ]
    },
    {
      "cell_type": "code",
      "source": [
        "# функция для извлечения даты новости из строки со ссылкой на новость\n",
        "def get_date(link):\n",
        "  pattern = r'\\/20[0-2][0-9][0-1][0-9][0-3][0-9]\\/'\n",
        "  result = re.search(pattern, link)\n",
        "\n",
        "  if result:\n",
        "    return result[0][1:-1]\n",
        "  else:\n",
        "    return ''\n",
        "  return \n",
        "\n",
        "# пример\n",
        "get_date('https://ria.ru/20041229/774359.html\tЖерар Депардье открыл в Париже второй ресторан')"
      ],
      "metadata": {
        "colab": {
          "base_uri": "https://localhost:8080/",
          "height": 35
        },
        "id": "DOGZNLZKvtBD",
        "outputId": "6bff018d-5d36-4abe-cda9-24a605b622e8"
      },
      "execution_count": 4,
      "outputs": [
        {
          "output_type": "execute_result",
          "data": {
            "text/plain": [
              "'20041229'"
            ],
            "application/vnd.google.colaboratory.intrinsic+json": {
              "type": "string"
            }
          },
          "metadata": {},
          "execution_count": 4
        }
      ]
    },
    {
      "cell_type": "markdown",
      "source": [
        "## Read and count news frequency with speechverbs"
      ],
      "metadata": {
        "id": "tIZvhcPMwC3T"
      }
    },
    {
      "cell_type": "code",
      "source": [
        "%%time\n",
        "#url = 'https://raw.githubusercontent.com/ekolonsky/RIA_news/main/'\n",
        "url = 'https://github.com/ekolonsky/RIA_news/raw/main/'\n",
        "filenames = ['ria-{:02d}-1.txt'.format(i) for i in range(2,23)] \n",
        "filenames += ['ria-{:02d}-2.txt'.format(i) for i in range(2,23)]\n",
        "#filenames = ['ria-{:02d}-1.txt'.format(i) for i in range(13,15)]  # quick test\n",
        "\n",
        "total, selected = Counter(), Counter()\n",
        "\n",
        "\n",
        "\n",
        "for filename in filenames:\n",
        "  print(filename)\n",
        "  req = requests.get(url + filename)\n",
        "  for line in req.text.splitlines():\n",
        "    sep = line.find('\\t')\n",
        "    if sep == -1:\n",
        "      continue\n",
        "    link, news = line[:sep],line[sep+1:]\n",
        "    tokens = tokenize(news)\n",
        "  \n",
        "    date = get_date(link)\n",
        "    year = date[:4]\n",
        "\n",
        "    total[year] += 1\n",
        "\n",
        "    if any(word in speechverbs for word in tokens):\n",
        "      selected[year] += 1\n",
        "\n"
      ],
      "metadata": {
        "colab": {
          "base_uri": "https://localhost:8080/"
        },
        "id": "U_lNizOCv0ai",
        "outputId": "4465360d-d7cf-458e-aa61-b11d585726f7"
      },
      "execution_count": 10,
      "outputs": [
        {
          "output_type": "stream",
          "name": "stdout",
          "text": [
            "ria-02-1.txt\n",
            "ria-03-1.txt\n",
            "ria-04-1.txt\n",
            "ria-05-1.txt\n",
            "ria-06-1.txt\n",
            "ria-07-1.txt\n",
            "ria-08-1.txt\n",
            "ria-09-1.txt\n",
            "ria-10-1.txt\n",
            "ria-11-1.txt\n",
            "ria-12-1.txt\n",
            "ria-13-1.txt\n",
            "ria-14-1.txt\n",
            "ria-15-1.txt\n",
            "ria-16-1.txt\n",
            "ria-17-1.txt\n",
            "ria-18-1.txt\n",
            "ria-19-1.txt\n",
            "ria-20-1.txt\n",
            "ria-21-1.txt\n",
            "ria-22-1.txt\n",
            "ria-02-2.txt\n",
            "ria-03-2.txt\n",
            "ria-04-2.txt\n",
            "ria-05-2.txt\n",
            "ria-06-2.txt\n",
            "ria-07-2.txt\n",
            "ria-08-2.txt\n",
            "ria-09-2.txt\n",
            "ria-10-2.txt\n",
            "ria-11-2.txt\n",
            "ria-12-2.txt\n",
            "ria-13-2.txt\n",
            "ria-14-2.txt\n",
            "ria-15-2.txt\n",
            "ria-16-2.txt\n",
            "ria-17-2.txt\n",
            "ria-18-2.txt\n",
            "ria-19-2.txt\n",
            "ria-20-2.txt\n",
            "ria-21-2.txt\n",
            "ria-22-2.txt\n",
            "CPU times: user 3min 35s, sys: 1.26 s, total: 3min 37s\n",
            "Wall time: 5min 3s\n"
          ]
        }
      ]
    },
    {
      "cell_type": "code",
      "source": [
        "import matplotlib.pylab as plt\n",
        "\n",
        "freq = {}\n",
        "for year in total:\n",
        "  freq[year] = selected[year]/total[year]\n",
        "  print(year, total[year], selected[year], freq[year])\n",
        "\n",
        "lists = sorted(freq.items()) # sorted by key, return a list of tuples\n",
        "x, y = zip(*lists) # unpack a list of pairs into two tuples\n",
        "\n",
        "plt.plot(x, y)\n",
        "\n",
        "ax = plt.gca()\n",
        "plt.draw()\n",
        "\n",
        "ax.tick_params(axis='x', labelrotation = 90)\n",
        "plt.title(\"Verbs of speech frequency over time\")\n",
        "plt.show()"
      ],
      "metadata": {
        "colab": {
          "base_uri": "https://localhost:8080/",
          "height": 661
        },
        "id": "9PmgBxY2xx_I",
        "outputId": "f324a9ae-e484-4d49-96e5-a83d83963748"
      },
      "execution_count": 11,
      "outputs": [
        {
          "output_type": "stream",
          "name": "stdout",
          "text": [
            "2002 131914 12071 0.09150658762527102\n",
            "2003 94182 7007 0.07439850502219107\n",
            "2004 136974 10966 0.0800589892972389\n",
            "2005 89136 6531 0.0732700592353258\n",
            "2006 68754 6645 0.09664892224452395\n",
            "2007 84873 7525 0.08866188304879055\n",
            "2008 109435 8293 0.0757801434641568\n",
            "2009 129409 9904 0.07653254410435133\n",
            "2010 156937 12795 0.08152953095828262\n",
            "2011 187429 16881 0.09006610503177204\n",
            "2012 175841 16267 0.09250971047707872\n",
            "2013 187527 18020 0.09609282929924758\n",
            "2014 156781 17509 0.11167807323591507\n",
            "2015 224856 22851 0.1016250400256164\n",
            "2016 202099 31218 0.15446884942528166\n",
            "2017 168791 41963 0.2486092267952675\n",
            "2018 166210 49553 0.2981348895974971\n",
            "2019 177376 53882 0.30377277647483314\n",
            "2020 163126 49117 0.3010985373269742\n",
            "2021 139511 46627 0.3342173735404377\n",
            "2022 160916 51073 0.31738919684804495\n"
          ]
        },
        {
          "output_type": "display_data",
          "data": {
            "text/plain": [
              "<Figure size 432x288 with 1 Axes>"
            ],
            "image/png": "[encoded data removed]"
          },
          "metadata": {
            "needs_background": "light"
          }
        }
      ]
    },
    {
      "cell_type": "code",
      "source": [],
      "metadata": {
        "id": "FUwEW5zgzjbo"
      },
      "execution_count": null,
      "outputs": []
    }
  ]
}